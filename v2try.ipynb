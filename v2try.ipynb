{
 "cells": [
  {
   "cell_type": "code",
   "execution_count": 1,
   "metadata": {},
   "outputs": [
    {
     "name": "stdout",
     "output_type": "stream",
     "text": [
      "[[[220 230 240]\n",
      "  [221 231 241]\n",
      "  [219 232 241]\n",
      "  ...\n",
      "  [128 184 221]\n",
      "  [129 185 222]\n",
      "  [132 188 225]]\n",
      "\n",
      " [[220 230 240]\n",
      "  [221 231 241]\n",
      "  [221 231 241]\n",
      "  ...\n",
      "  [129 185 222]\n",
      "  [129 185 222]\n",
      "  [130 186 223]]\n",
      "\n",
      " [[220 230 240]\n",
      "  [221 231 241]\n",
      "  [221 231 241]\n",
      "  ...\n",
      "  [128 186 223]\n",
      "  [127 185 222]\n",
      "  [125 183 220]]\n",
      "\n",
      " ...\n",
      "\n",
      " [[ 74  67  57]\n",
      "  [ 25  18   8]\n",
      "  [ 24  17   9]\n",
      "  ...\n",
      "  [ 86  76  75]\n",
      "  [ 94  84  83]\n",
      "  [118 108 107]]\n",
      "\n",
      " [[ 74  67  57]\n",
      "  [ 26  19   9]\n",
      "  [ 26  19  11]\n",
      "  ...\n",
      "  [ 86  76  75]\n",
      "  [ 94  84  83]\n",
      "  [118 108 107]]\n",
      "\n",
      " [[ 74  67  57]\n",
      "  [ 26  19   9]\n",
      "  [ 27  20  12]\n",
      "  ...\n",
      "  [ 86  76  75]\n",
      "  [ 93  83  82]\n",
      "  [117 107 106]]]\n"
     ]
    }
   ],
   "source": [
    "from PIL import Image\n",
    "import numpy as np\n",
    "\n",
    "image = Image.open('pexels-michael-block-1691617-3225517.jpg')\n",
    "\n",
    "image_array = np.array(image)\n",
    "\n",
    "print(image_array)\n"
   ]
  },
  {
   "cell_type": "code",
   "execution_count": 3,
   "metadata": {},
   "outputs": [
    {
     "name": "stdout",
     "output_type": "stream",
     "text": [
      "(5830, 4664, 3)\n"
     ]
    }
   ],
   "source": [
    "print(image_array.shape)"
   ]
  },
  {
   "cell_type": "code",
   "execution_count": null,
   "metadata": {},
   "outputs": [],
   "source": []
  }
 ],
 "metadata": {
  "kernelspec": {
   "display_name": "base",
   "language": "python",
   "name": "python3"
  },
  "language_info": {
   "codemirror_mode": {
    "name": "ipython",
    "version": 3
   },
   "file_extension": ".py",
   "mimetype": "text/x-python",
   "name": "python",
   "nbconvert_exporter": "python",
   "pygments_lexer": "ipython3",
   "version": "3.9.12"
  }
 },
 "nbformat": 4,
 "nbformat_minor": 2
}
