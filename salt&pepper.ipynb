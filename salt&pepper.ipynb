{
 "cells": [
  {
   "cell_type": "code",
   "execution_count": 2,
   "metadata": {},
   "outputs": [
    {
     "data": {
      "text/plain": [
       "-1"
      ]
     },
     "execution_count": 2,
     "metadata": {},
     "output_type": "execute_result"
    }
   ],
   "source": [
    "import cv2\n",
    "import numpy as np\n",
    "from skimage.util import random_noise\n",
    " \n",
    "# Load the image\n",
    "img = cv2.imread(\"pexels-michael-block-1691617-3225517.jpg\")\n",
    " \n",
    "# Add salt-and-pepper noise to the image.\n",
    "noise_img = random_noise(img, mode='s&p',amount=0.3)\n",
    " \n",
    "# The above function returns a floating-point image\n",
    "# on the range [0, 1], thus we changed it to 'uint8'\n",
    "# and from [0,255]\n",
    "noise_img = np.array(255*noise_img, dtype = 'uint8')\n",
    " \n",
    "# Display the noise image\n",
    "cv2.imshow('blur',noise_img)\n",
    "cv2.waitKey(0)"
   ]
  },
  {
   "cell_type": "code",
   "execution_count": null,
   "metadata": {},
   "outputs": [],
   "source": [
    "import numpy as np\n",
    "import torch\n",
    "import matplotlib.pyplot as plt\n",
    "from PIL import Image\n",
    "\n",
    "beta1 = 0.0001  \n",
    "beta2 = 0.02 \n",
    "timesteps = 500\n",
    "\n",
    "device = torch.device('cuda' if torch.cuda.is_available() else 'cpu')\n",
    "\n",
    "#b_t = (beta2 - beta1) * torch.linspace(0, 1, timesteps + 1, device=device) + beta1\n",
    "b_t = torch.full((timesteps + 1,), 0.02, device=device)\n",
    "a_t = 1 - b_t\n",
    "ab_t = torch.cumsum(a_t.log(), dim=0).exp().to(device)  # Move ab_t to the same device\n",
    "ab_t[0] = 1.0  # Ensure the initial value is 1.0 (100% of the original image)\n",
    "\n",
    "image_path = 'pexels-michael-block-1691617-3225517.jpg'  # Replace with your image path\n",
    "img = Image.open(image_path)  \n",
    "img = img.convert('RGB')  \n",
    "img_array = np.array(img)\n",
    "img_array = img_array / 255.0  # Normalize to [0, 1]\n",
    "img_tensor = torch.tensor(img_array, dtype=torch.float32, device=device).permute(2, 0, 1).unsqueeze(0)  # Convert to tensor and add batch dimension, move to device\n",
    "\n",
    "plt.imshow(np.clip(img_array, 0, 1))  # Ensure values are in [0, 1]\n",
    "plt.title(f\"Original Image\")\n",
    "plt.axis('off')\n",
    "plt.show()\n",
    "\n",
    "noise = torch.randn_like(img_tensor, device=device)\n",
    "encrypted_image = ab_t.sqrt()[timesteps, None, None, None] * img_tensor + (1 - ab_t[timesteps, None, None, None]).sqrt() * noise\n",
    "\n",
    "encrypted_image = encrypted_image.squeeze().permute(1, 2, 0).cpu().numpy()  # Convert back to HWC format for visualization\n",
    "\n",
    "plt.imshow(np.clip(encrypted_image, 0, 1))  # Ensure values are in [0, 1]\n",
    "plt.title(f\"Encrypted Image at Timestep {100}\")\n",
    "plt.axis('off')\n",
    "plt.savefig('encrypted_image.png')  # Save the image\n",
    "plt.show()\n",
    "\n",
    "differences = []\n",
    "x_t = torch.tensor(encrypted_image.copy(), dtype=torch.float32, device=device).permute(2, 0, 1).unsqueeze(0)\n",
    "\n",
    "for t in range(100, -1, -1):\n",
    "    x_t_minus_1 = (x_t - ((1 - a_t[t])/torch.sqrt(1-ab_t[t])) * noise) / torch.sqrt(a_t[t])\n",
    "    x_t = x_t_minus_1\n",
    "\n",
    "    decrypted_image = x_t.squeeze().permute(1, 2, 0).cpu().numpy()\n",
    "    '''plt.imshow(np.clip(decrypted_image, 0, 1))  # Ensure values are in [0, 1]\n",
    "    plt.title(f\"Decrypted Image at Timestep {t}\")\n",
    "    plt.axis('off')\n",
    "    plt.show() '''\n",
    "\n",
    "    difference = torch.mean((img_tensor - x_t) ** 2).item()  # Mean squared error\n",
    "    differences.append(difference)\n",
    "\n",
    "# Plot the differences\n",
    "plt.figure(figsize=(10, 5))\n",
    "plt.plot(range(100, -1, -1), differences, label='Difference')\n",
    "plt.xlabel('Timestep')\n",
    "plt.ylabel('Difference (MSE)')\n",
    "plt.title('Difference between img_tensor and x_t over timesteps')\n",
    "plt.legend()\n",
    "plt.grid(True)\n",
    "plt.show()"
   ]
  }
 ],
 "metadata": {
  "kernelspec": {
   "display_name": "base",
   "language": "python",
   "name": "python3"
  },
  "language_info": {
   "codemirror_mode": {
    "name": "ipython",
    "version": 3
   },
   "file_extension": ".py",
   "mimetype": "text/x-python",
   "name": "python",
   "nbconvert_exporter": "python",
   "pygments_lexer": "ipython3",
   "version": "3.9.12"
  }
 },
 "nbformat": 4,
 "nbformat_minor": 2
}
