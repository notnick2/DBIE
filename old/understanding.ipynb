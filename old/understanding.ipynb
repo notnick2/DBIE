{
 "cells": [
  {
   "cell_type": "code",
   "execution_count": 2,
   "metadata": {},
   "outputs": [],
   "source": [
    "import torch\n",
    "# construct DDPM noise schedule\n",
    "beta1 = 0.01\n",
    "beta2 = 0.2\n",
    "timesteps = 10\n",
    "device = torch.device('cuda' if torch.cuda.is_available() else 'cpu')\n",
    "b_t = (beta2 - beta1) * torch.linspace(0, 1, timesteps + 1, device=device) + beta1 #b_t is a sequence of numbers (like a list) that tells us how much noise to add at each step.\n",
    "a_t = 1 - b_t #This means a_t tells us how much of the original image is left after adding some noise.\n",
    "ab_t = torch.cumsum(a_t.log(), dim=0).exp()  # sequence that accumulates the effects of adding noise over many steps.  \n",
    "ab_t[0] = 1 #100% of the original image with no noise added yet."
   ]
  },
  {
   "cell_type": "code",
   "execution_count": 3,
   "metadata": {},
   "outputs": [
    {
     "name": "stdout",
     "output_type": "stream",
     "text": [
      "tensor([0.0100, 0.0290, 0.0480, 0.0670, 0.0860, 0.1050, 0.1240, 0.1430, 0.1620,\n",
      "        0.1810, 0.2000], device='cuda:0')\n",
      "tensor([0.9900, 0.9710, 0.9520, 0.9330, 0.9140, 0.8950, 0.8760, 0.8570, 0.8380,\n",
      "        0.8190, 0.8000], device='cuda:0')\n",
      "tensor([1.0000, 0.9613, 0.9151, 0.8538, 0.7804, 0.6985, 0.6119, 0.5244, 0.4394,\n",
      "        0.3599, 0.2879], device='cuda:0')\n"
     ]
    }
   ],
   "source": [
    "print(b_t)\n",
    "print(a_t)\n",
    "print(ab_t)"
   ]
  }
 ],
 "metadata": {
  "kernelspec": {
   "display_name": "base",
   "language": "python",
   "name": "python3"
  },
  "language_info": {
   "codemirror_mode": {
    "name": "ipython",
    "version": 3
   },
   "file_extension": ".py",
   "mimetype": "text/x-python",
   "name": "python",
   "nbconvert_exporter": "python",
   "pygments_lexer": "ipython3",
   "version": "3.9.12"
  }
 },
 "nbformat": 4,
 "nbformat_minor": 2
}
