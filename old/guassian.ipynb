{
 "cells": [
  {
   "cell_type": "code",
   "execution_count": 1,
   "metadata": {},
   "outputs": [],
   "source": [
    "import numpy as np\n",
    "from PIL import Image\n",
    "\n",
    "def add_gaussian_noise(image, mean=0, std=25):\n",
    "    \"\"\"\n",
    "    Add Gaussian noise to an image.\n",
    "\n",
    "    Parameters:\n",
    "    - image: PIL.Image object\n",
    "    - mean: Mean of the Gaussian noise (default: 0)\n",
    "    - std: Standard deviation of the Gaussian noise (default: 25)\n",
    "\n",
    "    Returns:\n",
    "    - PIL.Image object with added noise\n",
    "    \"\"\"\n",
    "    # Convert image to numpy array\n",
    "    img_array = np.array(image)\n",
    "\n",
    "    # Generate Gaussian noise\n",
    "    noise = np.random.normal(mean, std, img_array.shape)\n",
    "\n",
    "    # Add noise to the image\n",
    "    noisy_image = np.clip(img_array + noise, 0, 255).astype(np.uint8)\n",
    "\n",
    "    # Convert noisy image back to PIL.Image\n",
    "    noisy_image = Image.fromarray(noisy_image)\n",
    "\n",
    "    return noisy_image\n",
    "\n",
    "# Example usage:\n",
    "# Load an image\n",
    "input_image_path = 'pexels-lastly-772803.jpg'\n",
    "image = Image.open(input_image_path)\n",
    "\n",
    "# Add Gaussian noise to the image\n",
    "noisy_image = add_gaussian_noise(image, mean=0, std=25)\n",
    "\n",
    "# Save the noisy image\n",
    "output_image_path = 'noisy_image.jpg'\n",
    "noisy_image.save(output_image_path)\n"
   ]
  }
 ],
 "metadata": {
  "kernelspec": {
   "display_name": "base",
   "language": "python",
   "name": "python3"
  },
  "language_info": {
   "codemirror_mode": {
    "name": "ipython",
    "version": 3
   },
   "file_extension": ".py",
   "mimetype": "text/x-python",
   "name": "python",
   "nbconvert_exporter": "python",
   "pygments_lexer": "ipython3",
   "version": "3.9.12"
  }
 },
 "nbformat": 4,
 "nbformat_minor": 2
}
